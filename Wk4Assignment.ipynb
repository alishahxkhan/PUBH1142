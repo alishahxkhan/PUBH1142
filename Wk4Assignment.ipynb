{
 "cells": [
  {
   "cell_type": "markdown",
   "metadata": {},
   "source": [
    "# **PUBH 1142 Week 4 Assignment: Spreadsheets and Databases**"
   ]
  },
  {
   "cell_type": "markdown",
   "metadata": {},
   "source": [
    "### **1.\tWhat is the difference between a spreadsheet and a database?**\n",
    "*The primary use of a spreadsheet is for calculations and small datasets, while that of a database is to manage and manipulate large datasets. Additionally, spreadsheets have flat/tabular structure while databases have more complex structures (including tables, and relations).*\n",
    "\n",
    "### **2.\tWhat are the advantages and disadvantages of using a spreadsheet for health data management?**\n",
    "*Using a spreadsheet for health data management has advantages, including the fact that it allows for analyzing data in a tabular form, and can organize smaller datasets into rows and columns. However, the disadvantages are that the scalability, data relations, and multi user accessibility are all limited.*\n",
    "\n",
    "### **3.\tWhat are the advantages and disadvantages of using a database for health data management?**\n",
    "*A health database is a structured collected of health-related data, and its advantage is that it can hold a variety of data including electronic health records, insurance claims, patient demographics, clinical trial data, and more. This data can then be easily stored, organized and retrieved when needed. The disadvantages are that its data analysis capabilities can be sophisticated, and it may often require the knowledge of database design and SQL which many people may not know.*\n",
    "\n",
    "### **4.\tWhat are some examples of tasks that can be performed using a spreadsheet?**\n",
    "*Some tasks that can be performed in a spreadsheet include performing calculations on data using formulas/functions, creating charts to visualize data, and applying data analysis tools such as pivot tables or conditional formatting rules. Spreadsheets can also help with sorting, filtering and summarizing data.*\n",
    "\n",
    "### **5.\tWhat are some examples of tasks that can be performed using a database?**\n",
    "*Some tasks that can be performed in a database include creating relationships between different data elements and using tools for data querying and reporting.*\n",
    "\n",
    "### **6.\tWhat are some examples of tasks that can be performed using both a spreadsheet and a database?**\n",
    "*Tasks that can be completed in both spreadsheets and database include sorting, organizing ,and analyzing health data. This including basic charting, and basic calculations.*\n",
    "\n",
    "### **7.\tWhat are some examples of tasks that can be performed using neither a spreadsheet nor a database?**\n",
    "*Writing content/data summary reports, designing graphics, explaining information, and managing project timelines are some of the tasks that can be completed using nether a spreadsheet or database.*\n",
    "\n",
    "### **8.\tWhat are some examples of tasks that can be performed using a spreadsheet but not a database?**\n",
    "*Performing simple data analysis, averaging values across multiple cells, and formatting data with colors/borders are some tasks that can be performed by a spreadsheet.*\n",
    "\n",
    "### **9.\tWhat are some examples of tasks that can be performed using a database but not a spreadsheet?**\n",
    "*Managing large volumes of complex, interrelated data and performing queries to extract specific information from a dataset are some tasks that can be performed with a database and not a spreadsheet.*\n",
    "\n",
    "### **10.\tWhat are some examples of tasks that can be performed using both a spreadsheet and a database?**\n",
    "*Tasks that can be completed in both spreadsheets and database include sorting, organizing ,and analyzing health data. This including basic charting, and basic calculations.*\n",
    "\n"
   ]
  }
 ],
 "metadata": {
  "language_info": {
   "name": "python"
  }
 },
 "nbformat": 4,
 "nbformat_minor": 2
}
