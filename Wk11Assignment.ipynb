{
 "cells": [
  {
   "cell_type": "markdown",
   "id": "2d21a196",
   "metadata": {},
   "source": [
    "## **Week 11 Assignment: Introduction to Distributions and Their Use**"
   ]
  },
  {
   "cell_type": "code",
   "execution_count": 3,
   "id": "53ec9a58",
   "metadata": {},
   "outputs": [
    {
     "data": {
      "text/plain": [
       "{'sample_mean': np.float64(85.73142223054637),\n",
       " 'sample_std': np.float64(8.631307726184986),\n",
       " 'standard_error': np.float64(1.3647295800276755),\n",
       " 'confidence_coefficient': np.float64(2.0226909200367604),\n",
       " 'lower_bound': np.float64(82.9709961007188),\n",
       " 'upper_bound': np.float64(88.49184836037394),\n",
       " '2.5th_percentile_bootstrap': np.float64(83.07391126128843),\n",
       " '97.5th_percentile_bootstrap': np.float64(88.37348451540217)}"
      ]
     },
     "execution_count": 3,
     "metadata": {},
     "output_type": "execute_result"
    }
   ],
   "source": [
    "import numpy as np  # Import numpy\n",
    "\n",
    "from scipy import stats\n",
    "\n",
    "# Seed the pseudo-random number generator\n",
    "np.random.seed(12)\n",
    "\n",
    "# Create the population array (diastolic blood pressure data)\n",
    "dBP = np.random.normal(85, 10, 100000)\n",
    "\n",
    "# Select a random sample of 40 individuals\n",
    "sample = np.random.choice(dBP, 40)\n",
    "\n",
    "# Calculate the sample mean\n",
    "sample_mean = sample.mean()\n",
    "\n",
    "# Calculate the sample standard deviation\n",
    "sample_std = sample.std(ddof=1)\n",
    "\n",
    "# Calculate the standard error\n",
    "standard_error = sample_std / np.sqrt(40)\n",
    "\n",
    "# Calculate the confidence coefficient for 95% confidence level\n",
    "c = stats.t.ppf(0.975, 39)  # degrees of freedom = 40 - 1 = 39\n",
    "\n",
    "# Calculate the lower and upper bounds of the confidence interval\n",
    "lower_bound = sample_mean - c * standard_error\n",
    "upper_bound = sample_mean + c * standard_error\n",
    "\n",
    "# Generate 1000 bootstrapped sample means\n",
    "bootstrapped_means = [np.random.choice(sample, 40, replace=True).mean() for _ in range(1000)]\n",
    "\n",
    "# Sort the bootstrapped means\n",
    "bootstrapped_means.sort()\n",
    "\n",
    "# Show the 2.5th and 97.5th percentiles\n",
    "lower_bootstrap = bootstrapped_means[24]\n",
    "upper_bootstrap = bootstrapped_means[974]\n",
    "\n",
    "# Output the results\n",
    "results = {\n",
    "    \"sample_mean\": sample_mean,\n",
    "    \"sample_std\": sample_std,\n",
    "    \"standard_error\": standard_error,\n",
    "    \"confidence_coefficient\": c,\n",
    "    \"lower_bound\": lower_bound,\n",
    "    \"upper_bound\": upper_bound,\n",
    "    \"2.5th_percentile_bootstrap\": lower_bootstrap,\n",
    "    \"97.5th_percentile_bootstrap\": upper_bootstrap\n",
    "}\n",
    "\n",
    "results\n"
   ]
  }
 ],
 "metadata": {
  "kernelspec": {
   "display_name": ".venv",
   "language": "python",
   "name": "python3"
  },
  "language_info": {
   "codemirror_mode": {
    "name": "ipython",
    "version": 3
   },
   "file_extension": ".py",
   "mimetype": "text/x-python",
   "name": "python",
   "nbconvert_exporter": "python",
   "pygments_lexer": "ipython3",
   "version": "3.13.1"
  }
 },
 "nbformat": 4,
 "nbformat_minor": 5
}
