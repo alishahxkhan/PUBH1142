{
 "cells": [
  {
   "cell_type": "markdown",
   "metadata": {},
   "source": [
    "## **Week 8 Assignment: Working with Data**"
   ]
  },
  {
   "cell_type": "markdown",
   "metadata": {},
   "source": [
    "### How do you import the pandas library in Python?\n",
    "*import pandas as pd  # Package to work with data*\n",
    "\n",
    "### How do you read a CSV file named data.csv into a pandas DataFrame?\n",
    "*by preceding the function with the pandas namespace abbreviation, pd.*\n",
    "\n",
    "### How do you display the first 5 rows of a DataFrame named df?\n",
    "*Using the head method. By default it returns the first five rows of a dataframe object. For example: df.head()*\n",
    "\n",
    "### How do you find the number of rows and columns in a DataFrame df?\n",
    "*The shape attribute shows use the number of rows and columns, returned as a tuple. For example: df.shape*\n",
    "\n",
    "### How do you print the names of all the columns in a DataFrame df?\n",
    "*The columns attribute lists all the column header names, called labels. For example:df.columns *\n",
    "\n",
    "### How do you get the summary information of the DataFrame df including data types and non-null values?\n",
    "*Using the dtype attribute. It returns the Python data type of the values in each of the columns.For example:df.dtypes*\n",
    "\n",
    "### How do you select only the rows in DataFrame df where the column A is greater than 5?\n",
    "\n",
    "\n",
    "### How do you select the columns A and B from the DataFrame df?\n",
    "\n",
    "### How do you rename the column A to Alpha in DataFrame df?\n",
    "\n",
    "### How do you replace all occurrences of the value 999 in DataFrame df with nan?\n",
    "\n",
    "### How do you drop all rows in DataFrame df that contain missing values?\n",
    "\n",
    "### How do you fill all missing values in DataFrame df with 0?\n",
    "\n",
    "### How do you calculate the mean of column A in DataFrame df?\n",
    "\n",
    "### How do you create a new column C in DataFrame df that is the sum of columns A and B?\n",
    "\n",
    "### How do you save the DataFrame df to a CSV file named output.csv? (Find the solution by searching the pandas documentation.)"
   ]
  }
 ],
 "metadata": {
  "language_info": {
   "name": "python"
  }
 },
 "nbformat": 4,
 "nbformat_minor": 2
}
