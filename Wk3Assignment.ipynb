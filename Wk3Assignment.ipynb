{
 "cells": [
  {
   "cell_type": "markdown",
   "metadata": {},
   "source": [
    "# **PUBH 1142 Week 3 Assignment: Ethics and Privacy**"
   ]
  },
  {
   "cell_type": "markdown",
   "metadata": {},
   "source": [
    "### **1. What is the primary goal of data anonymization?**\n",
    "*The goal of data anonymization is to prevent the identification of individuals associated with the data, but still allow the data to be used for research and analysis.*\n",
    "\n",
    "### **2.\tWhat is the Havasupai Tribe case about?**\n",
    "*The Havasupai tribe case was about a native American community living in grand canyon Arizona who were approached about participating in a study regarding the prevalence of type 2 diabetes amongst the tribe. They were assured that blood samples collected would be used to investigate the prevalence of diabetes within their community, however, researchers used the blood samples for additional studies that the tribe did not consent to, making them feel betrayed. The additional research also challenged the tribes cultural and spiritual beliefs. The case emphasized the need for safeguards, transparency and respect amongst researchers and participants, including the need for disclosing intentions and uses of collected data. .*\n",
    "\n",
    "### **3.\tWhat was the largest health data breach in history?**\n",
    "*The largest health data breach occurred in 2015 among Anthem Inc, a US based insurance company . The company disclosed that it was a victim of a cyber-attack, during which hackers gained access to nearly 78.8 million individuals’ personal information, including names, social security numbers, and employment information. This security breach exposed millions of individuals to identity theft and fraud. This incident reinforced the need to safeguard privacy and security of health data, and highlights the importance of adaptation and robust cybersecurity measures to protect individuals from the harmful effects of data breaches.*\n",
    "\n",
    "### **4.\tWhat is the pulse oximeter controversy about?**\n",
    "*Pulse Oximeters are small clip-like devices placed on a patient’s finger to measure vitals such as oxygen saturation in the blood. Despite being widely used, a study identified that there were racial biases in the tool. Findings indicated that pulse oximeters were three times more likely to miss hypoxemia in black patients compared to white patients. This is due to the fact that algorithms used by pulse oximeters to calculate oxygen saturation were primarily based on data from light skinned individuals. The consequences of these misleading readings can result in delayed or inappropriate treatment. It brings attention to the importance of representation in health data collection, and the need for rigorous testing of medical devices.*\n",
    "\n",
    "### **5.\tWhat is the role of an Institutional Review Board (IRB) in research?**\n",
    "*The purpose of an Institutional Review Board is to ensure that research involving human subjects are being conducted ethically, and that the participants of the research have their rights protected. IRB’s also need to review and approve studies before they can begin, monitor ongoing studies, review progress reports and modify or potentially terminate studies as needed.*\n",
    "\n",
    "### **6.\tWhat is the difference between spreadsheet software and database software for health data management?**\n",
    "*Spreadsheet software is primarily used for basic data organization and visualizations of smaller datasets, whereas database software is designed to manage large complex datasets with intricate relationships*\n",
    "\n",
    "### **7.\tWhat is a conflict of interest in public health research?**\n",
    "*A conflict of interest in public health research refers to a circumstance in which a person or organization involved in the research has secondary interest that could influence or bias the process of the research.*\n",
    "\n",
    "### **8.\tWhat is informed consent in the context of health data collection?**\n",
    "*Informed consent refers to the practice of providing individuals with the full and necessary information to make an educated and well informed decision about their participation in a study. Informed consent tells the individuals the risks and benefits to the study, as well as its purpose, and informs them of their right to withdraw at any point. It essentially ensures that individuals know what they’re getting into and their rights to back out when they want to.*\n",
    "\n",
    "### **9.\tWhat is data masking in the context of de-identification of health data?**\n",
    "*Data masking refers to the practice of replacing individuals’ identifiable information with random characters, or simply removing it. For example, a patient’s name may be replaced with “X”’s  to conceal their identity.*\n",
    "\n",
    "### **10.\tWhat is the principle of kk-anonymity in the context of de-identification of health data?**\n",
    "*This principle involves grouping data such that each group has k records, making it difficult to single out specific individuals. It ultimately helps with the privacy of patients/individuals.*\n",
    " \n",
    "### **11.\tWhat is the main concern about conflicts of interest in public health research?**\n",
    "*Concerns regarding conflicts of interest include loss of trust, compromising of the integrity of public health research, invalidating the findings of the study, and presenting bias.*\n",
    "\n",
    "### **12.\tWhat is the first step in managing conflicts of interest in public health research?**\n",
    "*The first step in managing conflicts of interest in public health research is transparency. Researchers should disclose any potential conflicts of interest at the very initial stages, and disclosure should be reevaluated through the process.*\n",
    "\n",
    "### **13.\tWhat is the role of independent oversight in managing conflicts of interest in public health research?**\n",
    "*Independent oversight can be a valuable tool in managing conflicts of interest as it involves having separate committees review research proposals to help mitigate any conflicts, and review the research before it is published. Essentially, its another checkpoint measure to ensure that the search is not compromised.*\n",
    "\n",
    "### **14.\tWhat is one strategy for mitigating conflicts of interest in public health research?**\n",
    "*One strategy for mitigating conflicts of interest is divestment. In a circumstance where a financial conflict of interest is resent, a researcher may require to divest from the interest causing the conflict.*\n",
    "\n",
    "### **15.\tWhat is the potential impact of not properly managing conflicts of interest in public health research?**\n",
    "*Not properly managing conflicts of interest can lead to many negative impacts including bias in research, loss of public trust, and damage to research integrity which is extremely harmful. Each of these impacts ultimately breach the trust of organizations, ruin reputations, and lead to misinformation.*\n",
    "\n",
    "\n"
   ]
  }
 ],
 "metadata": {
  "kernelspec": {
   "display_name": ".venv",
   "language": "python",
   "name": "python3"
  },
  "language_info": {
   "name": "python",
   "version": "3.13.1"
  }
 },
 "nbformat": 4,
 "nbformat_minor": 2
}
