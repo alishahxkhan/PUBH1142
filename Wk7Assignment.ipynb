{
 "cells": [
  {
   "cell_type": "markdown",
   "metadata": {},
   "source": [
    "# **PUBH 1142 Week 7 Assignment: Python Collections**"
   ]
  },
  {
   "cell_type": "markdown",
   "metadata": {},
   "source": [
    "### How do you define a list in Python?\n",
    "*A Python list can be created using square bracket notation. The elements are separated by commas.*"
   ]
  },
  {
   "cell_type": "markdown",
   "metadata": {},
   "source": [
    "### How do you access the third element of a Python list named my_list?\n",
    "*You can access the third element using index 2 (since indexing starts at 0).*"
   ]
  },
  {
   "cell_type": "markdown",
   "metadata": {},
   "source": [
    "### How can you add the element \"new_item\" to the end of an existing list named my_list?\n",
    "*You can use the append() method to add an item to the end of a list*"
   ]
  },
  {
   "cell_type": "markdown",
   "metadata": {},
   "source": [
    "### How do you create a Python tuple with the items \"apple\", \"banana\", and \"cherry\"?\n",
    "*You define a tuple using parentheses () and separating the items with commas. For example: my_tuple = (\"apple\", \"banana\", \"cherry\")*"
   ]
  },
  {
   "cell_type": "markdown",
   "metadata": {},
   "source": [
    "### How do you access the first element of a Python tuple named my_tuple?\n",
    "*You can access the first element using index 0.*"
   ]
  },
  {
   "cell_type": "markdown",
   "metadata": {},
   "source": [
    "### How do you define a dictionary in Python with keys \"name\", \"age\" and values \"John Doe\", 30?\n",
    "*You define a dictionary using curly braces {}, with key-value pairs separated by colons. For example: my_dict = {\"name\": \"John Doe\", \"age\": 30}* "
   ]
  },
  {
   "cell_type": "markdown",
   "metadata": {},
   "source": [
    "### How can you retrieve the value for the key \"name\" from the dictionary my_dict\n",
    "*You can retrieve the value associated with a key using square brackets. For example: name_value = my_dict[\"name\"].*\n",
    "\n",
    "\n"
   ]
  },
  {
   "cell_type": "markdown",
   "metadata": {},
   "source": [
    "### How can you change the value associated with the key \"age\" in the dictionary my_dict to 35?\n",
    "*You can assign a new value to the existing key. For example: my_dict[\"age\"] = 35*"
   ]
  },
  {
   "cell_type": "markdown",
   "metadata": {},
   "source": [
    "### How can you add a new key-value pair \"city\":\"New York\" to the dictionary my_dict?\n",
    "*You can add a new key-value pair by simply assigning a value to a new key. For Example: my_dict[\"city\"] = \"New York\"*"
   ]
  },
  {
   "cell_type": "markdown",
   "metadata": {},
   "source": [
    "### How do you create a set in Python with the items \"apple\", \"banana\", and \"cherry\"?\n",
    "*You define a set using curly braces {} or the set() function. For example: my_set = {\"apple\", \"banana\", \"cherry\"}*\n"
   ]
  },
  {
   "cell_type": "markdown",
   "metadata": {},
   "source": [
    "### How do you add the item \"orange\" to an existing set my_set?\n",
    "*You can use the add() method to add an item to a set. For example:my_set.add(\"orange\")*\n",
    "\n"
   ]
  },
  {
   "cell_type": "markdown",
   "metadata": {},
   "source": [
    "### How do you remove the item \"banana\" from the set my_set?\n",
    "*You can use the remove() method to remove an item from a set. For Exmple: my_set.remove(\"banana\")*\n"
   ]
  },
  {
   "cell_type": "markdown",
   "metadata": {},
   "source": [
    "### What is the length of a list my_list with elements [1, 2, 3, 4, 5]?\n",
    "*The length of a list can be obtained using the len() function.For example: len(my_list)*"
   ]
  },
  {
   "cell_type": "markdown",
   "metadata": {},
   "source": [
    "### What will be the result of my_list * 2 if my_list is [1, 2, 3]?\n",
    "*Multiplying a list by a number will repeat the list that many times.For Example:my_list * 2*"
   ]
  },
  {
   "cell_type": "markdown",
   "metadata": {},
   "source": [
    "### What is the result of set([1,2,2,3,4,4,4,5,5])?\n",
    "*A set automatically removes duplicates, so the result will be a set with only unique elements.For example: set([1, 2, 2, 3, 4, 4, 4, 5, 5])*\n"
   ]
  }
 ],
 "metadata": {
  "language_info": {
   "name": "python"
  }
 },
 "nbformat": 4,
 "nbformat_minor": 2
}
