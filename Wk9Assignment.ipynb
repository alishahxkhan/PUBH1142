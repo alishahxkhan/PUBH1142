{
 "cells": [
  {
   "cell_type": "markdown",
   "id": "9db27742",
   "metadata": {},
   "source": [
    "## **Week 9 Assignment: Exploratory Data Analysis**"
   ]
  },
  {
   "cell_type": "markdown",
   "id": "2b6532c2",
   "metadata": {},
   "source": [
    "### How do you import the pandas package in Python?\n",
    "*import pandas as pd*\n",
    "\n",
    "### What function do you use to read a CSV file in pandas?\n",
    "*df = pd.read_csv('filename.csv')*\n",
    "\n",
    "### How do you display the first 5 rows of a DataFrame in pandas?\n",
    "*df.head()*\n",
    "\n",
    "### How do you calculate the mean of a column named Age in a DataFrame named df?\n",
    "*df.Age.mean()*\n",
    "\n",
    "### How do you calculate the median of a column named Salary in a DataFrame named df?\n",
    "*df.Salary.median()*\n",
    "\n",
    "### How do you calculate the standard deviation of a column named Score in a DataFrame named df?\n",
    "*df.Score.std(ddof=1)*\n",
    "\n",
    "### How do you find the number of missing values in each column of a DataFrame named df?\n",
    "*df.isnull().sum()*\n",
    "\n",
    "### How do you calculate the correlation between two columns, Age and Salary, in a DataFrame named df?\n",
    "*df.Age.corr(df.Salary)*\n",
    "\n",
    "### How do you select a subset of a DataFrame df where the column Age is greater than 30?\n",
    "*df[df.Age > 30]*\n",
    "\n",
    "### How do you calculate the range (maximum - minimum) of a column named Score in a DataFrame named df?\n",
    "*df.Score.max() - df.Score.min()*\n",
    "\n",
    "### How do you group a DataFrame df by a column named Department and calculate the mean of Salary within each group?\n",
    "*df.groupby('Department').Salary.mean()*\n",
    "\n",
    "### How do you group a DataFrame df by two columns, Department and Job Title, and count the number of rows within each group?\n",
    "*df.groupby(['Department', 'Job Title']).size()*\n",
    "\n",
    "### How do you use the groupby method to find the maximum Age in each Department in a DataFrame df?\n",
    "*df.groupby('Department').Age.max()*\n",
    "\n",
    "### How do you create a cross-tabulation table that shows the frequency count of Department (rows) and Job Title (columns) in a DataFrame df?\n",
    "*pd.crosstab(df['Department'], df['Job Title'])*\n",
    "\n",
    "### How do you create a cross-tabulation table that shows the mean Salary for each combination of Department (rows) and Job Title (columns) in a DataFrame df?\n",
    "*pd.crosstab(df['Department'], df['Job Title'], values=df['Salary'], aggfunc='mean')*"
   ]
  }
 ],
 "metadata": {
  "language_info": {
   "name": "python"
  }
 },
 "nbformat": 4,
 "nbformat_minor": 5
}
