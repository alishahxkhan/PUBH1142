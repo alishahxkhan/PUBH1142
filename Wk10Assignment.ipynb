{
 "cells": [
  {
   "cell_type": "markdown",
   "id": "6d5d2ef0",
   "metadata": {},
   "source": [
    "## **Week 9 Assignment: Data Visualization**"
   ]
  },
  {
   "cell_type": "markdown",
   "id": "d8b71199",
   "metadata": {},
   "source": [
    "### How do you import the Seaborn package in Python?\n",
    "*import seaborn*\n",
    "\n",
    "### How do you create a scatter plot in Seaborn for variables x and y in a DataFrame df?\n",
    "*seaborn.scatterplot(data=df, x='x', y='y')*\n",
    "\n",
    "### How do you create a line plot in Seaborn for variables x and y in a DataFrame df?\n",
    "*seaborn.lineplot(data=df, x='x', y='y')*\n",
    "\n",
    "### How do you create a histogram in Seaborn for a variable x in a DataFrame df?\n",
    "*seaborn.displot(df, x='x')*\n",
    "\n",
    "### How do you create a stacked histogram in Seaborn for variables x and 'hue' y in a DataFrame df?\n",
    "*seaborn.displot(df, x='x', hue='y', multiple='stack')*\n",
    "\n",
    "### How do you create a heatmap in Seaborn for a variable x and y in a DataFrame df?\n",
    "*seaborn.displot(df, x='x', y='y', cbar=True)*\n",
    "\n",
    "### How do you create a box plot in Seaborn for variables x and y in a DataFrame df?\n",
    "*seaborn.catplot(data=df, x='x', y='y', kind='box')*\n",
    "\n",
    "### How do you create a violin plot in Seaborn for variables x and y in a DataFrame df?\n",
    "*seaborn.catplot(data=df, x='x', y='y', kind='violin')*\n",
    "\n",
    "### How do you create a bar plot in Seaborn for variables x and y in a DataFrame df?\n",
    "*seaborn.catplot(data=df, x='x', y='y', kind='bar')*\n",
    "\n",
    "### How do you add a title to a Seaborn plot assigned to the variable ax with the title 'My Title'?\n",
    "*seaborn.catplot(data=df, x='x', y='y', kind='bar')*\n",
    "\n",
    "### How do you save a Seaborn plot ax to a file named 'output.png'?\n",
    "*from matplotlib import pyplot*\n",
    "*pyplot.savefig('output.png')*\n",
    "\n",
    "### How do you set the x and y axis labels to 'X Label' and 'Y Label' respectively for a Seaborn plot ax?\n",
    "*ax.set(xlabel='X Label', ylabel='Y Label')*\n",
    "\n",
    "### How do you change the color palette of a Seaborn plot to 'Blues'?\n",
    "*seaborn.set_palette('Blues')*\n",
    "\n",
    "### How do you display a Seaborn plot with a logarithmic scale on the y-axis?\n",
    "*pyplot.yscale('log')*\n",
    "\n",
    "### How do you add a regression line to a scatter plot in Seaborn for variables x and y in a DataFrame df?\n",
    "*seaborn.lmplot(data=df, x='x', y='y')*"
   ]
  }
 ],
 "metadata": {
  "language_info": {
   "name": "python"
  }
 },
 "nbformat": 4,
 "nbformat_minor": 5
}
